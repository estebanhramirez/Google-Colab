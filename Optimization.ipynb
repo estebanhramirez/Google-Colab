{
  "nbformat": 4,
  "nbformat_minor": 0,
  "metadata": {
    "colab": {
      "provenance": []
    },
    "kernelspec": {
      "name": "python3",
      "display_name": "Python 3"
    },
    "language_info": {
      "name": "python"
    }
  },
  "cells": [
    {
      "cell_type": "code",
      "source": [
        "import numpy as np\n",
        "from scipy.optimize import linprog"
      ],
      "metadata": {
        "id": "J8Dozlf5JUSO"
      },
      "execution_count": 224,
      "outputs": []
    },
    {
      "cell_type": "code",
      "source": [
        "\n",
        "def pretty_print_weekly(x, items):\n",
        "  M = []\n",
        "\n",
        "  ctr = 0\n",
        "  row = []\n",
        "  for i in range(1, len(x)+1):\n",
        "    row.append(x[i-1])\n",
        "    if (i % 7 == 0):\n",
        "      row.insert(0, items[ctr])\n",
        "      M.append(row)\n",
        "      ctr += 1\n",
        "      row = []\n",
        "\n",
        "  day = [[' ', 'Mon', 'Tue', 'Wed', 'Thu', 'Fri', 'Sat', 'Sun']]\n",
        "  print('\\n'.join([''.join(['{:8}'.format(ele) for ele in row]) for row in day]))\n",
        "  print('\\n'.join([''.join(['{:8}'.format(ele) for ele in row]) for row in M]))\n"
      ],
      "metadata": {
        "id": "OvyxJvo2x99B"
      },
      "execution_count": 225,
      "outputs": []
    },
    {
      "cell_type": "code",
      "source": [
        "\n",
        "def build_c(prices):\n",
        "  c = []\n",
        "  for p in prices:\n",
        "    for i in range(0, 7):\n",
        "      c += [p]\n",
        "  return c\n"
      ],
      "metadata": {
        "id": "1budZxosn6om"
      },
      "execution_count": 226,
      "outputs": []
    },
    {
      "cell_type": "code",
      "source": [
        "\n",
        "def constrain_weekly_min(A, b, idx_item, min_amount, n_items):\n",
        "  A.append([-1 for i in range(0, 7*n_items)])\n",
        "  b += [-min_amount]\n",
        "  return (A, b)\n",
        "\n",
        "def constrain_weekly_max(A, b, idx_item, max_amount, n_items):\n",
        "  A.append([1 for i in range(0, 7*n_items)])\n",
        "  b += [max_amount]\n",
        "  return (A, b)\n",
        "\n",
        "def constrain_weekly_max_item(A, b, idx_item, max_amount, n_items):\n",
        "  a = [0]*(7*n_items)\n",
        "  for i in range(0, 7):\n",
        "    a[(7*idx_item)+i] = 1\n",
        "  A.append(a)\n",
        "  b += [max_amount]\n",
        "  return (A, b)\n",
        "\n",
        "def constrain_daily_max_item(A, b, idx_item, idx_day, max_amount, n_items):\n",
        "  a = [0]*(7*n_items)\n",
        "  a[(7*idx_item)+idx_day] = 1\n",
        "  A.append(a)\n",
        "  b += [max_amount]\n",
        "  return (A, b)\n"
      ],
      "metadata": {
        "id": "tu2Q7WsJpcZv"
      },
      "execution_count": 227,
      "outputs": []
    },
    {
      "cell_type": "code",
      "source": [
        "\n",
        "def find_min_cost_local(c, A_eq, b_eq, bounds, items, verbose=False):\n",
        "  res = linprog(c, A_eq=A_eq, b_eq=b_eq, bounds=bounds)\n",
        "  if res.fun is not None and verbose:\n",
        "    print(res.message)\n",
        "    print('raw printing..')\n",
        "    print(res.x)\n",
        "    print('\\n'+\"pretty printing..\")\n",
        "    pretty_print_weekly(res.x, items)\n",
        "  return (res.fun)\n",
        "\n",
        "def find_min_cost_global(items, prices_markets, prices, path, it):\n",
        "  if it == len(items):\n",
        "    n = len(prices)\n",
        "    c = build_c(prices)\n",
        "\n",
        "    A_eq = [[0]*(7*n)]\n",
        "    b_eq = [0]\n",
        "\n",
        "    A_eq, b_eq = constrain_weekly_max_item(A_eq_run, b_eq_run, 1, 50, n)\n",
        "    A_eq, b_eq = constrain_weekly_max_item(A_eq_run, b_eq_run, 3, 25, n)\n",
        "    A_eq, b_eq = constrain_weekly_max_item(A_eq_run, b_eq_run, 5, 250, n)\n",
        "    A_eq, b_eq = constrain_daily_max_item(A_eq_run, b_eq_run, 3, 0, 10, n)\n",
        "    A_eq, b_eq = constrain_daily_max_item(A_eq_run, b_eq_run, 3, 1, 3, n)\n",
        "    A_eq, b_eq = constrain_daily_max_item(A_eq_run, b_eq_run, 5, 2, 100, n)\n",
        "    A_eq, b_eq = constrain_daily_max_item(A_eq_run, b_eq_run, 2, 5, 222, n)\n",
        "\n",
        "    bounds = [(1, None)]*(7*n)\n",
        "\n",
        "    price = find_min_cost_local(c, A_eq=A_eq, b_eq=b_eq, bounds=bounds, items=items)\n",
        "    print(prices, \" - \", path, \" : \", price)\n",
        "    return (price, prices, path)\n",
        "  else:\n",
        "    global_min = 1000000000\n",
        "    prices_min = []\n",
        "    path_min = []\n",
        "    for i, prices_market in enumerate(prices_markets):\n",
        "      local_min, prices_min_, path_min_ = find_min_cost_global(items, prices_markets, prices+[prices_market[it]], path+[i], it+1)\n",
        "      if local_min < global_min:\n",
        "        global_min = local_min\n",
        "        prices_min = prices_min_\n",
        "        path_min = path_min_\n",
        "    return (global_min, prices_min, path_min)"
      ],
      "metadata": {
        "id": "pW2xH4us6yTR"
      },
      "execution_count": 228,
      "outputs": []
    },
    {
      "cell_type": "markdown",
      "source": [
        "**Beggining of execution**"
      ],
      "metadata": {
        "id": "UqCONl9b7h9K"
      }
    },
    {
      "cell_type": "code",
      "source": [
        "\n",
        "items_run = ['Appel', 'Garlic', 'Onion', 'Potato', 'Rice', 'Tomato']\n",
        "\n",
        "prices_market1 = [\n",
        "            2000, # Appel\n",
        "            1800, # Garlic\n",
        "            6000, # Onion\n",
        "            3000, # Potato\n",
        "            3500, # Rice\n",
        "            1500, # Tomato\n",
        "          ]\n",
        "\n",
        "prices_market2 = [\n",
        "            1800, # Appel\n",
        "            1800, # Garlic\n",
        "            6200, # Onion\n",
        "            3200, # Potato\n",
        "            3400, # Rice\n",
        "            1900, # Tomato\n",
        "          ]\n"
      ],
      "metadata": {
        "id": "GoQET9-onH6Z"
      },
      "execution_count": 229,
      "outputs": []
    },
    {
      "cell_type": "markdown",
      "source": [
        "**Test suite**"
      ],
      "metadata": {
        "id": "RsHI93LH7oOD"
      }
    },
    {
      "cell_type": "code",
      "source": [
        "n_run = len(prices_market1)\n",
        "\n",
        "c_run = build_c(prices_market1)\n",
        "\n",
        "\n",
        "# Restrictions only <=\n",
        "\n",
        "\n",
        "# Restrictions only =\n",
        "A_eq_run = [[0]*(7*n_run)]\n",
        "b_eq_run = [0]\n",
        "\n",
        "A_eq_run, b_eq_run = constrain_weekly_max_item(A_eq_run, b_eq_run, 1, 50, n_run)\n",
        "A_eq_run, b_eq_run = constrain_weekly_max_item(A_eq_run, b_eq_run, 3, 25, n_run)\n",
        "A_eq_run, b_eq_run = constrain_weekly_max_item(A_eq_run, b_eq_run, 5, 250, n_run)\n",
        "A_eq_run, b_eq_run = constrain_daily_max_item(A_eq_run, b_eq_run, 3, 0, 10, n_run)\n",
        "A_eq_run, b_eq_run = constrain_daily_max_item(A_eq_run, b_eq_run, 3, 1, 3, n_run)\n",
        "A_eq_run, b_eq_run = constrain_daily_max_item(A_eq_run, b_eq_run, 5, 2, 100, n_run)\n",
        "A_eq_run, b_eq_run = constrain_daily_max_item(A_eq_run, b_eq_run, 2, 5, 222, n_run)\n",
        "\n",
        "print(c_run)\n",
        "print(A_eq_run, b_eq_run)\n",
        "\n",
        "\n",
        "bounds_run = [(1, None)]*(7*n_run)"
      ],
      "metadata": {
        "id": "tlw-9EEEJWUr",
        "colab": {
          "base_uri": "https://localhost:8080/"
        },
        "outputId": "f1317fd0-220a-4a81-f901-e5564973013a"
      },
      "execution_count": 230,
      "outputs": [
        {
          "output_type": "stream",
          "name": "stdout",
          "text": [
            "[2000, 2000, 2000, 2000, 2000, 2000, 2000, 1800, 1800, 1800, 1800, 1800, 1800, 1800, 6000, 6000, 6000, 6000, 6000, 6000, 6000, 3000, 3000, 3000, 3000, 3000, 3000, 3000, 3500, 3500, 3500, 3500, 3500, 3500, 3500, 1500, 1500, 1500, 1500, 1500, 1500, 1500]\n",
            "[[0, 0, 0, 0, 0, 0, 0, 0, 0, 0, 0, 0, 0, 0, 0, 0, 0, 0, 0, 0, 0, 0, 0, 0, 0, 0, 0, 0, 0, 0, 0, 0, 0, 0, 0, 0, 0, 0, 0, 0, 0, 0], [0, 0, 0, 0, 0, 0, 0, 1, 1, 1, 1, 1, 1, 1, 0, 0, 0, 0, 0, 0, 0, 0, 0, 0, 0, 0, 0, 0, 0, 0, 0, 0, 0, 0, 0, 0, 0, 0, 0, 0, 0, 0], [0, 0, 0, 0, 0, 0, 0, 0, 0, 0, 0, 0, 0, 0, 0, 0, 0, 0, 0, 0, 0, 1, 1, 1, 1, 1, 1, 1, 0, 0, 0, 0, 0, 0, 0, 0, 0, 0, 0, 0, 0, 0], [0, 0, 0, 0, 0, 0, 0, 0, 0, 0, 0, 0, 0, 0, 0, 0, 0, 0, 0, 0, 0, 0, 0, 0, 0, 0, 0, 0, 0, 0, 0, 0, 0, 0, 0, 1, 1, 1, 1, 1, 1, 1], [0, 0, 0, 0, 0, 0, 0, 0, 0, 0, 0, 0, 0, 0, 0, 0, 0, 0, 0, 0, 0, 1, 0, 0, 0, 0, 0, 0, 0, 0, 0, 0, 0, 0, 0, 0, 0, 0, 0, 0, 0, 0], [0, 0, 0, 0, 0, 0, 0, 0, 0, 0, 0, 0, 0, 0, 0, 0, 0, 0, 0, 0, 0, 0, 1, 0, 0, 0, 0, 0, 0, 0, 0, 0, 0, 0, 0, 0, 0, 0, 0, 0, 0, 0], [0, 0, 0, 0, 0, 0, 0, 0, 0, 0, 0, 0, 0, 0, 0, 0, 0, 0, 0, 0, 0, 0, 0, 0, 0, 0, 0, 0, 0, 0, 0, 0, 0, 0, 0, 0, 0, 1, 0, 0, 0, 0], [0, 0, 0, 0, 0, 0, 0, 0, 0, 0, 0, 0, 0, 0, 0, 0, 0, 0, 0, 1, 0, 0, 0, 0, 0, 0, 0, 0, 0, 0, 0, 0, 0, 0, 0, 0, 0, 0, 0, 0, 0, 0]] [0, 50, 25, 250, 10, 3, 100, 222]\n"
          ]
        }
      ]
    },
    {
      "cell_type": "code",
      "source": [
        "price = find_min_cost_local(c_run, A_eq=A_eq_run, b_eq=b_eq_run, bounds=bounds_run, items=items_run, verbose=True)\n",
        "print(price)"
      ],
      "metadata": {
        "id": "m3hkidJOL04Q",
        "colab": {
          "base_uri": "https://localhost:8080/"
        },
        "outputId": "4c26e225-ef5a-456b-d84f-ac716fcab8b1"
      },
      "execution_count": 231,
      "outputs": [
        {
          "output_type": "stream",
          "name": "stdout",
          "text": [
            "Optimization terminated successfully. (HiGHS Status 7: Optimal)\n",
            "raw printing..\n",
            "[  1.   1.   1.   1.   1.   1.   1.  44.   1.   1.   1.   1.   1.   1.\n",
            "   1.   1.   1.   1.   1. 222.   1.  10.   3.   8.   1.   1.   1.   1.\n",
            "   1.   1.   1.   1.   1.   1.   1. 145.   1. 100.   1.   1.   1.   1.]\n",
            "\n",
            "pretty printing..\n",
            "        Mon     Tue     Wed     Thu     Fri     Sat     Sun     \n",
            "Appel        1.0     1.0     1.0     1.0     1.0     1.0     1.0\n",
            "Garlic      44.0     1.0     1.0     1.0     1.0     1.0     1.0\n",
            "Onion        1.0     1.0     1.0     1.0     1.0   222.0     1.0\n",
            "Potato      10.0     3.0     8.0     1.0     1.0     1.0     1.0\n",
            "Rice         1.0     1.0     1.0     1.0     1.0     1.0     1.0\n",
            "Tomato     145.0     1.0   100.0     1.0     1.0     1.0     1.0\n",
            "1946500.0\n"
          ]
        }
      ]
    },
    {
      "cell_type": "code",
      "source": [
        "find_min_cost_global(items_run, [prices_market1, prices_market2], [], [], 0)"
      ],
      "metadata": {
        "colab": {
          "base_uri": "https://localhost:8080/"
        },
        "id": "Jve9OynJ_emH",
        "outputId": "df859783-5b85-42e0-8b07-a33e842424ae"
      },
      "execution_count": 232,
      "outputs": [
        {
          "output_type": "stream",
          "name": "stdout",
          "text": [
            "[2000, 1800, 6000, 3000, 3500, 1500]  -  [0, 0, 0, 0, 0, 0]  :  1946500.0\n",
            "[2000, 1800, 6000, 3000, 3500, 1900]  -  [0, 0, 0, 0, 0, 1]  :  2046500.0\n",
            "[2000, 1800, 6000, 3000, 3400, 1500]  -  [0, 0, 0, 0, 1, 0]  :  1945800.0\n",
            "[2000, 1800, 6000, 3000, 3400, 1900]  -  [0, 0, 0, 0, 1, 1]  :  2045800.0\n",
            "[2000, 1800, 6000, 3200, 3500, 1500]  -  [0, 0, 0, 1, 0, 0]  :  1951500.0\n",
            "[2000, 1800, 6000, 3200, 3500, 1900]  -  [0, 0, 0, 1, 0, 1]  :  2051500.0\n",
            "[2000, 1800, 6000, 3200, 3400, 1500]  -  [0, 0, 0, 1, 1, 0]  :  1950800.0\n",
            "[2000, 1800, 6000, 3200, 3400, 1900]  -  [0, 0, 0, 1, 1, 1]  :  2050800.0\n",
            "[2000, 1800, 6200, 3000, 3500, 1500]  -  [0, 0, 1, 0, 0, 0]  :  1992100.0\n",
            "[2000, 1800, 6200, 3000, 3500, 1900]  -  [0, 0, 1, 0, 0, 1]  :  2092100.0\n",
            "[2000, 1800, 6200, 3000, 3400, 1500]  -  [0, 0, 1, 0, 1, 0]  :  1991400.0\n",
            "[2000, 1800, 6200, 3000, 3400, 1900]  -  [0, 0, 1, 0, 1, 1]  :  2091400.0\n",
            "[2000, 1800, 6200, 3200, 3500, 1500]  -  [0, 0, 1, 1, 0, 0]  :  1997100.0\n",
            "[2000, 1800, 6200, 3200, 3500, 1900]  -  [0, 0, 1, 1, 0, 1]  :  2097100.0\n",
            "[2000, 1800, 6200, 3200, 3400, 1500]  -  [0, 0, 1, 1, 1, 0]  :  1996400.0\n",
            "[2000, 1800, 6200, 3200, 3400, 1900]  -  [0, 0, 1, 1, 1, 1]  :  2096400.0\n",
            "[2000, 1800, 6000, 3000, 3500, 1500]  -  [0, 1, 0, 0, 0, 0]  :  1946500.0\n",
            "[2000, 1800, 6000, 3000, 3500, 1900]  -  [0, 1, 0, 0, 0, 1]  :  2046500.0\n",
            "[2000, 1800, 6000, 3000, 3400, 1500]  -  [0, 1, 0, 0, 1, 0]  :  1945800.0\n",
            "[2000, 1800, 6000, 3000, 3400, 1900]  -  [0, 1, 0, 0, 1, 1]  :  2045800.0\n",
            "[2000, 1800, 6000, 3200, 3500, 1500]  -  [0, 1, 0, 1, 0, 0]  :  1951500.0\n",
            "[2000, 1800, 6000, 3200, 3500, 1900]  -  [0, 1, 0, 1, 0, 1]  :  2051500.0\n",
            "[2000, 1800, 6000, 3200, 3400, 1500]  -  [0, 1, 0, 1, 1, 0]  :  1950800.0\n",
            "[2000, 1800, 6000, 3200, 3400, 1900]  -  [0, 1, 0, 1, 1, 1]  :  2050800.0\n",
            "[2000, 1800, 6200, 3000, 3500, 1500]  -  [0, 1, 1, 0, 0, 0]  :  1992100.0\n",
            "[2000, 1800, 6200, 3000, 3500, 1900]  -  [0, 1, 1, 0, 0, 1]  :  2092100.0\n",
            "[2000, 1800, 6200, 3000, 3400, 1500]  -  [0, 1, 1, 0, 1, 0]  :  1991400.0\n",
            "[2000, 1800, 6200, 3000, 3400, 1900]  -  [0, 1, 1, 0, 1, 1]  :  2091400.0\n",
            "[2000, 1800, 6200, 3200, 3500, 1500]  -  [0, 1, 1, 1, 0, 0]  :  1997100.0\n",
            "[2000, 1800, 6200, 3200, 3500, 1900]  -  [0, 1, 1, 1, 0, 1]  :  2097100.0\n",
            "[2000, 1800, 6200, 3200, 3400, 1500]  -  [0, 1, 1, 1, 1, 0]  :  1996400.0\n",
            "[2000, 1800, 6200, 3200, 3400, 1900]  -  [0, 1, 1, 1, 1, 1]  :  2096400.0\n",
            "[1800, 1800, 6000, 3000, 3500, 1500]  -  [1, 0, 0, 0, 0, 0]  :  1945100.0\n",
            "[1800, 1800, 6000, 3000, 3500, 1900]  -  [1, 0, 0, 0, 0, 1]  :  2045100.0\n",
            "[1800, 1800, 6000, 3000, 3400, 1500]  -  [1, 0, 0, 0, 1, 0]  :  1944400.0\n",
            "[1800, 1800, 6000, 3000, 3400, 1900]  -  [1, 0, 0, 0, 1, 1]  :  2044400.0\n",
            "[1800, 1800, 6000, 3200, 3500, 1500]  -  [1, 0, 0, 1, 0, 0]  :  1950100.0\n",
            "[1800, 1800, 6000, 3200, 3500, 1900]  -  [1, 0, 0, 1, 0, 1]  :  2050100.0\n",
            "[1800, 1800, 6000, 3200, 3400, 1500]  -  [1, 0, 0, 1, 1, 0]  :  1949400.0\n",
            "[1800, 1800, 6000, 3200, 3400, 1900]  -  [1, 0, 0, 1, 1, 1]  :  2049400.0\n",
            "[1800, 1800, 6200, 3000, 3500, 1500]  -  [1, 0, 1, 0, 0, 0]  :  1990700.0\n",
            "[1800, 1800, 6200, 3000, 3500, 1900]  -  [1, 0, 1, 0, 0, 1]  :  2090700.0\n",
            "[1800, 1800, 6200, 3000, 3400, 1500]  -  [1, 0, 1, 0, 1, 0]  :  1990000.0\n",
            "[1800, 1800, 6200, 3000, 3400, 1900]  -  [1, 0, 1, 0, 1, 1]  :  2090000.0\n",
            "[1800, 1800, 6200, 3200, 3500, 1500]  -  [1, 0, 1, 1, 0, 0]  :  1995700.0\n",
            "[1800, 1800, 6200, 3200, 3500, 1900]  -  [1, 0, 1, 1, 0, 1]  :  2095700.0\n",
            "[1800, 1800, 6200, 3200, 3400, 1500]  -  [1, 0, 1, 1, 1, 0]  :  1995000.0\n",
            "[1800, 1800, 6200, 3200, 3400, 1900]  -  [1, 0, 1, 1, 1, 1]  :  2095000.0\n",
            "[1800, 1800, 6000, 3000, 3500, 1500]  -  [1, 1, 0, 0, 0, 0]  :  1945100.0\n",
            "[1800, 1800, 6000, 3000, 3500, 1900]  -  [1, 1, 0, 0, 0, 1]  :  2045100.0\n",
            "[1800, 1800, 6000, 3000, 3400, 1500]  -  [1, 1, 0, 0, 1, 0]  :  1944400.0\n",
            "[1800, 1800, 6000, 3000, 3400, 1900]  -  [1, 1, 0, 0, 1, 1]  :  2044400.0\n",
            "[1800, 1800, 6000, 3200, 3500, 1500]  -  [1, 1, 0, 1, 0, 0]  :  1950100.0\n",
            "[1800, 1800, 6000, 3200, 3500, 1900]  -  [1, 1, 0, 1, 0, 1]  :  2050100.0\n",
            "[1800, 1800, 6000, 3200, 3400, 1500]  -  [1, 1, 0, 1, 1, 0]  :  1949400.0\n",
            "[1800, 1800, 6000, 3200, 3400, 1900]  -  [1, 1, 0, 1, 1, 1]  :  2049400.0\n",
            "[1800, 1800, 6200, 3000, 3500, 1500]  -  [1, 1, 1, 0, 0, 0]  :  1990700.0\n",
            "[1800, 1800, 6200, 3000, 3500, 1900]  -  [1, 1, 1, 0, 0, 1]  :  2090700.0\n",
            "[1800, 1800, 6200, 3000, 3400, 1500]  -  [1, 1, 1, 0, 1, 0]  :  1990000.0\n",
            "[1800, 1800, 6200, 3000, 3400, 1900]  -  [1, 1, 1, 0, 1, 1]  :  2090000.0\n",
            "[1800, 1800, 6200, 3200, 3500, 1500]  -  [1, 1, 1, 1, 0, 0]  :  1995700.0\n",
            "[1800, 1800, 6200, 3200, 3500, 1900]  -  [1, 1, 1, 1, 0, 1]  :  2095700.0\n",
            "[1800, 1800, 6200, 3200, 3400, 1500]  -  [1, 1, 1, 1, 1, 0]  :  1995000.0\n",
            "[1800, 1800, 6200, 3200, 3400, 1900]  -  [1, 1, 1, 1, 1, 1]  :  2095000.0\n"
          ]
        },
        {
          "output_type": "execute_result",
          "data": {
            "text/plain": [
              "(1944400.0, [1800, 1800, 6000, 3000, 3400, 1500], [1, 0, 0, 0, 1, 0])"
            ]
          },
          "metadata": {},
          "execution_count": 232
        }
      ]
    }
  ]
}