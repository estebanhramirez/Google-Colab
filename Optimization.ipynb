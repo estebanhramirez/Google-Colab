{
  "nbformat": 4,
  "nbformat_minor": 0,
  "metadata": {
    "colab": {
      "provenance": [],
      "authorship_tag": "ABX9TyOZhY9T/CjToZWvoCbOzu5F",
      "include_colab_link": true
    },
    "kernelspec": {
      "name": "python3",
      "display_name": "Python 3"
    },
    "language_info": {
      "name": "python"
    }
  },
  "cells": [
    {
      "cell_type": "markdown",
      "metadata": {
        "id": "view-in-github",
        "colab_type": "text"
      },
      "source": [
        "<a href=\"https://colab.research.google.com/github/estebanhramirez/Google-Colab/blob/main/Optimization.ipynb\" target=\"_parent\"><img src=\"https://colab.research.google.com/assets/colab-badge.svg\" alt=\"Open In Colab\"/></a>"
      ]
    },
    {
      "cell_type": "markdown",
      "source": [
        "**Imports**"
      ],
      "metadata": {
        "id": "Lrnq_wDW9Dmx"
      }
    },
    {
      "cell_type": "code",
      "source": [
        "import pandas as pd\n",
        "import xlrd\n",
        "import numpy as np\n",
        "from scipy.optimize import linprog"
      ],
      "metadata": {
        "id": "J8Dozlf5JUSO"
      },
      "execution_count": 487,
      "outputs": []
    },
    {
      "cell_type": "markdown",
      "source": [
        "**Interface**"
      ],
      "metadata": {
        "id": "ZrzdrFhT9Bcr"
      }
    },
    {
      "cell_type": "code",
      "source": [
        "\n",
        "def excel2matrix(doc_name, sheet_name):\n",
        "  df = pd.read_excel(doc_name, sheet_name, index_col=0)\n",
        "  arr = df.to_numpy()\n",
        "  result = [inner for outer in arr for inner in outer]\n",
        "  return (result)\n"
      ],
      "metadata": {
        "id": "b3ryZ-cj8-B4"
      },
      "execution_count": 488,
      "outputs": []
    },
    {
      "cell_type": "markdown",
      "source": [
        "**Middleware**"
      ],
      "metadata": {
        "id": "xyOMlLZl8--G"
      }
    },
    {
      "cell_type": "code",
      "source": [
        "\n",
        "def pretty_print_weekly(x, items):\n",
        "  M = []\n",
        "\n",
        "  ctr = 0\n",
        "  row = []\n",
        "  for i in range(1, len(x)+1):\n",
        "    row.append(x[i-1])\n",
        "    if (i % 7 == 0):\n",
        "      row.insert(0, items[ctr])\n",
        "      M.append(row)\n",
        "      ctr += 1\n",
        "      row = []\n",
        "\n",
        "  day = [[' ', 'Mon', 'Tue', 'Wed', 'Thu', 'Fri', 'Sat', 'Sun']]\n",
        "  print('\\n'.join([''.join(['{:8}'.format(ele) for ele in row]) for row in day]))\n",
        "  print('\\n'.join([''.join(['{:8}'.format(ele) for ele in row]) for row in M]))\n"
      ],
      "metadata": {
        "id": "OvyxJvo2x99B"
      },
      "execution_count": 489,
      "outputs": []
    },
    {
      "cell_type": "code",
      "source": [
        "\n",
        "def build_c(prices):\n",
        "  c = []\n",
        "  for p in prices:\n",
        "    for i in range(0, 7):\n",
        "      c += [p]\n",
        "  return c\n"
      ],
      "metadata": {
        "id": "1budZxosn6om"
      },
      "execution_count": 490,
      "outputs": []
    },
    {
      "cell_type": "code",
      "source": [
        "\n",
        "def constrain_by_interface(A, b, sign, constrains):\n",
        "  n = int(len(constrains)/7)\n",
        "  for i, entry in enumerate(constrains):\n",
        "    a = [0]*(7*n)\n",
        "    a[i] = sign\n",
        "    A.append(a)\n",
        "    b += [sign*entry]\n",
        "  return (A, b)\n",
        "\n",
        "def constrain_weekly_min(A, b, idx_item, min_amount, n_items):\n",
        "  A.append([-1 for i in range(0, 7*n_items)])\n",
        "  b += [-min_amount]\n",
        "  return (A, b)\n",
        "\n",
        "def constrain_weekly_max(A, b, idx_item, max_amount, n_items):\n",
        "  A.append([1 for i in range(0, 7*n_items)])\n",
        "  b += [max_amount]\n",
        "  return (A, b)\n",
        "\n",
        "def constrain_weekly_max_item(A, b, idx_item, max_amount, n_items):\n",
        "  a = [0]*(7*n_items)\n",
        "  for i in range(0, 7):\n",
        "    a[(7*idx_item)+i] = 1\n",
        "  A.append(a)\n",
        "  b += [max_amount]\n",
        "  return (A, b)\n",
        "\n",
        "def constrain_daily_max_item(A, b, idx_item, idx_day, max_amount, n_items):\n",
        "  a = [0]*(7*n_items)\n",
        "  a[(7*idx_item)+idx_day] = 1\n",
        "  A.append(a)\n",
        "  b += [max_amount]\n",
        "  return (A, b)\n"
      ],
      "metadata": {
        "id": "tu2Q7WsJpcZv"
      },
      "execution_count": 491,
      "outputs": []
    },
    {
      "cell_type": "code",
      "source": [
        "\n",
        "def find_min_cost_local(c, A_ub, b_ub, A_eq, b_eq, bounds, items, verbose=False):\n",
        "  res = linprog(c, A_ub=A_ub, b_ub=b_ub, A_eq=A_eq, b_eq=b_eq, bounds=bounds)\n",
        "  if res.fun is not None and verbose:\n",
        "    print(res.message)\n",
        "    print('raw printing..')\n",
        "    print(res.x)\n",
        "    print('\\n'+\"pretty printing..\")\n",
        "    pretty_print_weekly(res.x, items)\n",
        "  return (res.fun)\n",
        "\n",
        "def find_min_cost_global(A_ub, b_ub, A_eq, b_eq, items, prices_markets, prices, path, it):\n",
        "  if it == len(items):\n",
        "    c = build_c(prices)\n",
        "    A_ub = [[0]*(7*len(prices))]\n",
        "    A_eq = [[0]*(7*len(prices))]\n",
        "    b_ub = [0]\n",
        "    b_eq = [0]\n",
        "    bounds = [(1, None)]*(7*len(prices))\n",
        "\n",
        "    opt = find_min_cost_local(c, A_ub, b_ub, A_eq, b_eq, bounds=bounds, items=items)\n",
        "    return (opt, prices, path)\n",
        "  else:\n",
        "    global_min = np.inf\n",
        "    prices_min = []\n",
        "    path_min = []\n",
        "    for i, prices_market in enumerate(prices_markets):\n",
        "      local_min, prices_min_, path_min_ = find_min_cost_global(A_ub, b_ub, A_eq, b_eq, items, prices_markets, prices+[prices_market[it]], path+[i], it+1)\n",
        "      if local_min is None:\n",
        "        local_min = np.inf\n",
        "      if local_min < global_min:\n",
        "        global_min = local_min\n",
        "        prices_min = prices_min_\n",
        "        path_min = path_min_\n",
        "    return (global_min, prices_min, path_min)\n"
      ],
      "metadata": {
        "id": "pW2xH4us6yTR"
      },
      "execution_count": 492,
      "outputs": []
    },
    {
      "cell_type": "markdown",
      "source": [
        "**Beggining of execution**"
      ],
      "metadata": {
        "id": "UqCONl9b7h9K"
      }
    },
    {
      "cell_type": "code",
      "source": [
        "\n",
        "items_run = ['Appel', 'Garlic', 'Onion', 'Potato', 'Rice', 'Tomato']\n",
        "\n",
        "prices_market1 = [\n",
        "            2000, # Appel\n",
        "            1800, # Garlic\n",
        "            6000, # Onion\n",
        "            3000, # Potato\n",
        "            3500, # Rice\n",
        "            1500, # Tomato\n",
        "          ]\n",
        "\n",
        "prices_market2 = [\n",
        "            18, # Appel\n",
        "            18, # Garlic\n",
        "            62, # Onion\n",
        "            32, # Potato\n",
        "            34, # Rice\n",
        "            1900, # Tomato\n",
        "          ]\n",
        "\n",
        "prices_market3 = [\n",
        "            100, # Appel\n",
        "            1500, # Garlic\n",
        "            600, # Onion\n",
        "            4000, # Potato\n",
        "            60, # Rice\n",
        "            900, # Tomato\n",
        "          ]\n"
      ],
      "metadata": {
        "id": "GoQET9-onH6Z"
      },
      "execution_count": 493,
      "outputs": []
    },
    {
      "cell_type": "markdown",
      "source": [
        "**Test suite**"
      ],
      "metadata": {
        "id": "RsHI93LH7oOD"
      }
    },
    {
      "cell_type": "code",
      "source": [
        "n_run = len(prices_market1)\n",
        "\n",
        "c_run = build_c(prices_market2)\n",
        "\n",
        "A_ub_run = [[0]*(7*n_run)]\n",
        "A_eq_run = [[0]*(7*n_run)]\n",
        "b_ub_run = [0]\n",
        "b_eq_run = [0]\n",
        "\n",
        "# Restrictions only <=\n",
        "A_ub_run, b_ub_run = constrain_by_interface(A_ub_run, b_ub_run, -1, excel2matrix(\"Planning User Interface.xlsx\", \"Lower limits\"))\n",
        "A_ub_run, b_ub_run = constrain_by_interface(A_ub_run, b_ub_run, 1, excel2matrix(\"Planning User Interface.xlsx\", \"Upper limits\"))\n",
        "\n",
        "# Restrictions only ==\n",
        "\n",
        "A_eq_run, b_eq_run = constrain_weekly_max_item(A_eq_run, b_eq_run, 0, 100, n_run)\n",
        "A_eq_run, b_eq_run = constrain_weekly_max_item(A_eq_run, b_eq_run, 1, 105, n_run)\n",
        "A_eq_run, b_eq_run = constrain_weekly_max_item(A_eq_run, b_eq_run, 2, 120, n_run)\n",
        "A_eq_run, b_eq_run = constrain_weekly_max_item(A_eq_run, b_eq_run, 3, 125, n_run)\n",
        "A_eq_run, b_eq_run = constrain_weekly_max_item(A_eq_run, b_eq_run, 4, 99, n_run)\n",
        "\n",
        "#A_eq_run, b_eq_run = constrain_daily_max_item(A_eq_run, b_eq_run, 3, 0, 10, n_run)\n",
        "#A_eq_run, b_eq_run = constrain_daily_max_item(A_eq_run, b_eq_run, 3, 1, 3, n_run)\n",
        "#A_eq_run, b_eq_run = constrain_daily_max_item(A_eq_run, b_eq_run, 5, 2, 100, n_run)\n",
        "#A_eq_run, b_eq_run = constrain_daily_max_item(A_eq_run, b_eq_run, 2, 5, 222, n_run)\n",
        "\n",
        "print(c_run)\n",
        "print(A_eq_run, b_eq_run)\n",
        "\n",
        "\n",
        "bounds_run = [(0, None)]*(7*n_run)"
      ],
      "metadata": {
        "id": "tlw-9EEEJWUr",
        "colab": {
          "base_uri": "https://localhost:8080/"
        },
        "outputId": "35c69dea-2144-4d96-ec32-1926d649fd85"
      },
      "execution_count": 494,
      "outputs": [
        {
          "output_type": "stream",
          "name": "stdout",
          "text": [
            "[18, 18, 18, 18, 18, 18, 18, 18, 18, 18, 18, 18, 18, 18, 62, 62, 62, 62, 62, 62, 62, 32, 32, 32, 32, 32, 32, 32, 34, 34, 34, 34, 34, 34, 34, 1900, 1900, 1900, 1900, 1900, 1900, 1900]\n",
            "[[0, 0, 0, 0, 0, 0, 0, 0, 0, 0, 0, 0, 0, 0, 0, 0, 0, 0, 0, 0, 0, 0, 0, 0, 0, 0, 0, 0, 0, 0, 0, 0, 0, 0, 0, 0, 0, 0, 0, 0, 0, 0], [1, 1, 1, 1, 1, 1, 1, 0, 0, 0, 0, 0, 0, 0, 0, 0, 0, 0, 0, 0, 0, 0, 0, 0, 0, 0, 0, 0, 0, 0, 0, 0, 0, 0, 0, 0, 0, 0, 0, 0, 0, 0], [0, 0, 0, 0, 0, 0, 0, 1, 1, 1, 1, 1, 1, 1, 0, 0, 0, 0, 0, 0, 0, 0, 0, 0, 0, 0, 0, 0, 0, 0, 0, 0, 0, 0, 0, 0, 0, 0, 0, 0, 0, 0], [0, 0, 0, 0, 0, 0, 0, 0, 0, 0, 0, 0, 0, 0, 1, 1, 1, 1, 1, 1, 1, 0, 0, 0, 0, 0, 0, 0, 0, 0, 0, 0, 0, 0, 0, 0, 0, 0, 0, 0, 0, 0], [0, 0, 0, 0, 0, 0, 0, 0, 0, 0, 0, 0, 0, 0, 0, 0, 0, 0, 0, 0, 0, 1, 1, 1, 1, 1, 1, 1, 0, 0, 0, 0, 0, 0, 0, 0, 0, 0, 0, 0, 0, 0], [0, 0, 0, 0, 0, 0, 0, 0, 0, 0, 0, 0, 0, 0, 0, 0, 0, 0, 0, 0, 0, 0, 0, 0, 0, 0, 0, 0, 1, 1, 1, 1, 1, 1, 1, 0, 0, 0, 0, 0, 0, 0]] [0, 100, 105, 120, 125, 99]\n"
          ]
        }
      ]
    },
    {
      "cell_type": "code",
      "source": [
        "price = find_min_cost_local(c_run, A_ub=A_ub_run, b_ub=b_ub_run, A_eq=A_eq_run, b_eq=b_eq_run, bounds=bounds_run, items=items_run, verbose=True)\n",
        "print('Optimal price:', price)"
      ],
      "metadata": {
        "id": "m3hkidJOL04Q",
        "colab": {
          "base_uri": "https://localhost:8080/"
        },
        "outputId": "00a8f2c8-8f07-4b98-98c8-f568f38e69fe"
      },
      "execution_count": 495,
      "outputs": [
        {
          "output_type": "stream",
          "name": "stdout",
          "text": [
            "Optimization terminated successfully. (HiGHS Status 7: Optimal)\n",
            "raw printing..\n",
            "[40. 10. 10. 10. 10. 10. 10. 10. 10. 10. 15. 20. 20. 20. 10. 10. 10. 10.\n",
            " 30. 20. 30. 65. 10. 10. 10. 10. 10. 10. 39. 10. 10. 10. 10. 10. 10. 10.\n",
            " 10. 10. 10. 10. 10. 10.]\n",
            "\n",
            "pretty printing..\n",
            "        Mon     Tue     Wed     Thu     Fri     Sat     Sun     \n",
            "Appel       40.0    10.0    10.0    10.0    10.0    10.0    10.0\n",
            "Garlic      10.0    10.0    10.0    15.0    20.0    20.0    20.0\n",
            "Onion       10.0    10.0    10.0    10.0    30.0    20.0    30.0\n",
            "Potato      65.0    10.0    10.0    10.0    10.0    10.0    10.0\n",
            "Rice        39.0    10.0    10.0    10.0    10.0    10.0    10.0\n",
            "Tomato      10.0    10.0    10.0    10.0    10.0    10.0    10.0\n",
            "Optimal price: 151496.0\n"
          ]
        }
      ]
    },
    {
      "cell_type": "code",
      "source": [
        "find_min_cost_global(A_ub_run, b_ub_run, A_eq_run, b_eq_run, items_run, [prices_market1, prices_market2, prices_market3], [], [], 0)"
      ],
      "metadata": {
        "colab": {
          "base_uri": "https://localhost:8080/"
        },
        "id": "Jve9OynJ_emH",
        "outputId": "0a603e36-3fdd-48d1-ba5f-604a88d92910"
      },
      "execution_count": 496,
      "outputs": [
        {
          "output_type": "execute_result",
          "data": {
            "text/plain": [
              "(7448.0, [18, 18, 62, 32, 34, 900], [1, 1, 1, 1, 1, 2])"
            ]
          },
          "metadata": {},
          "execution_count": 496
        }
      ]
    }
  ]
}